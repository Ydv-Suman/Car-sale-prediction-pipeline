{
 "cells": [
  {
   "cell_type": "code",
   "execution_count": 1,
   "id": "47c814a2-4938-400c-9e3f-ec0babf5b9e3",
   "metadata": {},
   "outputs": [
    {
     "data": {
      "text/html": [
       "<div>\n",
       "<style scoped>\n",
       "    .dataframe tbody tr th:only-of-type {\n",
       "        vertical-align: middle;\n",
       "    }\n",
       "\n",
       "    .dataframe tbody tr th {\n",
       "        vertical-align: top;\n",
       "    }\n",
       "\n",
       "    .dataframe thead th {\n",
       "        text-align: right;\n",
       "    }\n",
       "</style>\n",
       "<table border=\"1\" class=\"dataframe\">\n",
       "  <thead>\n",
       "    <tr style=\"text-align: right;\">\n",
       "      <th></th>\n",
       "      <th>Make</th>\n",
       "      <th>Color</th>\n",
       "      <th>Odometer(Miles)</th>\n",
       "      <th>Doors</th>\n",
       "      <th>Price</th>\n",
       "    </tr>\n",
       "  </thead>\n",
       "  <tbody>\n",
       "    <tr>\n",
       "      <th>0</th>\n",
       "      <td>Toyota</td>\n",
       "      <td>Black</td>\n",
       "      <td>15963.0</td>\n",
       "      <td>5.0</td>\n",
       "      <td>$22,803.00</td>\n",
       "    </tr>\n",
       "    <tr>\n",
       "      <th>1</th>\n",
       "      <td>Honda</td>\n",
       "      <td>White</td>\n",
       "      <td>65265.0</td>\n",
       "      <td>4.0</td>\n",
       "      <td>$6,768.00</td>\n",
       "    </tr>\n",
       "    <tr>\n",
       "      <th>2</th>\n",
       "      <td>Toyota</td>\n",
       "      <td>White</td>\n",
       "      <td>58803.0</td>\n",
       "      <td>4.0</td>\n",
       "      <td>$8,662.00</td>\n",
       "    </tr>\n",
       "    <tr>\n",
       "      <th>3</th>\n",
       "      <td>Honda</td>\n",
       "      <td>Red</td>\n",
       "      <td>79033.0</td>\n",
       "      <td>4.0</td>\n",
       "      <td>$5,678.00</td>\n",
       "    </tr>\n",
       "    <tr>\n",
       "      <th>4</th>\n",
       "      <td>Nissan</td>\n",
       "      <td>White</td>\n",
       "      <td>226163.0</td>\n",
       "      <td>4.0</td>\n",
       "      <td>$3,929.00</td>\n",
       "    </tr>\n",
       "    <tr>\n",
       "      <th>5</th>\n",
       "      <td>Toyota</td>\n",
       "      <td>White</td>\n",
       "      <td>60152.0</td>\n",
       "      <td>4.0</td>\n",
       "      <td>$6,513.00</td>\n",
       "    </tr>\n",
       "    <tr>\n",
       "      <th>6</th>\n",
       "      <td>BMW</td>\n",
       "      <td>Black</td>\n",
       "      <td>NaN</td>\n",
       "      <td>5.0</td>\n",
       "      <td>$21,287.00</td>\n",
       "    </tr>\n",
       "    <tr>\n",
       "      <th>7</th>\n",
       "      <td>Toyota</td>\n",
       "      <td>Blue</td>\n",
       "      <td>59652.0</td>\n",
       "      <td>3.0</td>\n",
       "      <td>$7,548.00</td>\n",
       "    </tr>\n",
       "    <tr>\n",
       "      <th>8</th>\n",
       "      <td>Nissan</td>\n",
       "      <td>White</td>\n",
       "      <td>218857.0</td>\n",
       "      <td>4.0</td>\n",
       "      <td>$4,470.00</td>\n",
       "    </tr>\n",
       "    <tr>\n",
       "      <th>9</th>\n",
       "      <td>Toyota</td>\n",
       "      <td>Blue</td>\n",
       "      <td>53355.0</td>\n",
       "      <td>4.0</td>\n",
       "      <td>$5,386.00</td>\n",
       "    </tr>\n",
       "    <tr>\n",
       "      <th>10</th>\n",
       "      <td>NaN</td>\n",
       "      <td>White</td>\n",
       "      <td>30359.0</td>\n",
       "      <td>4.0</td>\n",
       "      <td>$8,708.00</td>\n",
       "    </tr>\n",
       "    <tr>\n",
       "      <th>11</th>\n",
       "      <td>Toyota</td>\n",
       "      <td>Blue</td>\n",
       "      <td>64305.0</td>\n",
       "      <td>4.0</td>\n",
       "      <td>NaN</td>\n",
       "    </tr>\n",
       "    <tr>\n",
       "      <th>12</th>\n",
       "      <td>Toyota</td>\n",
       "      <td>White</td>\n",
       "      <td>67270.0</td>\n",
       "      <td>4.0</td>\n",
       "      <td>$7,736.00</td>\n",
       "    </tr>\n",
       "    <tr>\n",
       "      <th>13</th>\n",
       "      <td>Toyota</td>\n",
       "      <td>Blue</td>\n",
       "      <td>64118.0</td>\n",
       "      <td>3.0</td>\n",
       "      <td>$7,179.00</td>\n",
       "    </tr>\n",
       "    <tr>\n",
       "      <th>14</th>\n",
       "      <td>Honda</td>\n",
       "      <td>Blue</td>\n",
       "      <td>56917.0</td>\n",
       "      <td>4.0</td>\n",
       "      <td>$7,065.00</td>\n",
       "    </tr>\n",
       "  </tbody>\n",
       "</table>\n",
       "</div>"
      ],
      "text/plain": [
       "      Make  Color  Odometer(Miles)  Doors       Price\n",
       "0   Toyota  Black          15963.0    5.0  $22,803.00\n",
       "1    Honda  White          65265.0    4.0   $6,768.00\n",
       "2   Toyota  White          58803.0    4.0   $8,662.00\n",
       "3    Honda    Red          79033.0    4.0   $5,678.00\n",
       "4   Nissan  White         226163.0    4.0   $3,929.00\n",
       "5   Toyota  White          60152.0    4.0   $6,513.00\n",
       "6      BMW  Black              NaN    5.0  $21,287.00\n",
       "7   Toyota   Blue          59652.0    3.0   $7,548.00\n",
       "8   Nissan  White         218857.0    4.0   $4,470.00\n",
       "9   Toyota   Blue          53355.0    4.0   $5,386.00\n",
       "10     NaN  White          30359.0    4.0   $8,708.00\n",
       "11  Toyota   Blue          64305.0    4.0         NaN\n",
       "12  Toyota  White          67270.0    4.0   $7,736.00\n",
       "13  Toyota   Blue          64118.0    3.0   $7,179.00\n",
       "14   Honda   Blue          56917.0    4.0   $7,065.00"
      ]
     },
     "execution_count": 1,
     "metadata": {},
     "output_type": "execute_result"
    }
   ],
   "source": [
    "import pandas as pd\n",
    "car_sales = pd.read_csv(\"Car-sales.csv\")\n",
    "car_sales.head(15)"
   ]
  },
  {
   "cell_type": "code",
   "execution_count": 2,
   "id": "5b8e43a0-765f-42ba-81d9-5dd08c1495ac",
   "metadata": {},
   "outputs": [
    {
     "data": {
      "text/plain": [
       "Make               249\n",
       "Color              244\n",
       "Odometer(Miles)    252\n",
       "Doors              244\n",
       "Price              236\n",
       "dtype: int64"
      ]
     },
     "execution_count": 2,
     "metadata": {},
     "output_type": "execute_result"
    }
   ],
   "source": [
    "car_sales.isna().sum()"
   ]
  },
  {
   "cell_type": "code",
   "execution_count": 3,
   "id": "78b618ea-b6a3-4bad-ade1-84d9bb849c40",
   "metadata": {},
   "outputs": [
    {
     "data": {
      "text/plain": [
       "(Make                object\n",
       " Color               object\n",
       " Odometer(Miles)    float64\n",
       " Doors              float64\n",
       " Price               object\n",
       " dtype: object,\n",
       " 5000)"
      ]
     },
     "execution_count": 3,
     "metadata": {},
     "output_type": "execute_result"
    }
   ],
   "source": [
    "car_sales.dtypes, len(car_sales)"
   ]
  },
  {
   "cell_type": "code",
   "execution_count": 4,
   "id": "440ac043-70c9-4715-85ba-8853e12f4da0",
   "metadata": {},
   "outputs": [
    {
     "data": {
      "text/plain": [
       "4764"
      ]
     },
     "execution_count": 4,
     "metadata": {},
     "output_type": "execute_result"
    }
   ],
   "source": [
    "car_sales.dropna(subset=[\"Price\"], inplace=True)\n",
    "len(car_sales)"
   ]
  },
  {
   "cell_type": "code",
   "execution_count": 5,
   "id": "222da617-52c9-4d81-9f73-f6efe1c2d925",
   "metadata": {},
   "outputs": [
    {
     "data": {
      "text/html": [
       "<div>\n",
       "<style scoped>\n",
       "    .dataframe tbody tr th:only-of-type {\n",
       "        vertical-align: middle;\n",
       "    }\n",
       "\n",
       "    .dataframe tbody tr th {\n",
       "        vertical-align: top;\n",
       "    }\n",
       "\n",
       "    .dataframe thead th {\n",
       "        text-align: right;\n",
       "    }\n",
       "</style>\n",
       "<table border=\"1\" class=\"dataframe\">\n",
       "  <thead>\n",
       "    <tr style=\"text-align: right;\">\n",
       "      <th></th>\n",
       "      <th>Make</th>\n",
       "      <th>Color</th>\n",
       "      <th>Odometer(Miles)</th>\n",
       "      <th>Doors</th>\n",
       "      <th>Price</th>\n",
       "    </tr>\n",
       "  </thead>\n",
       "  <tbody>\n",
       "    <tr>\n",
       "      <th>0</th>\n",
       "      <td>Toyota</td>\n",
       "      <td>Black</td>\n",
       "      <td>15963.0</td>\n",
       "      <td>5.0</td>\n",
       "      <td>22803</td>\n",
       "    </tr>\n",
       "    <tr>\n",
       "      <th>1</th>\n",
       "      <td>Honda</td>\n",
       "      <td>White</td>\n",
       "      <td>65265.0</td>\n",
       "      <td>4.0</td>\n",
       "      <td>6768</td>\n",
       "    </tr>\n",
       "    <tr>\n",
       "      <th>2</th>\n",
       "      <td>Toyota</td>\n",
       "      <td>White</td>\n",
       "      <td>58803.0</td>\n",
       "      <td>4.0</td>\n",
       "      <td>8662</td>\n",
       "    </tr>\n",
       "    <tr>\n",
       "      <th>3</th>\n",
       "      <td>Honda</td>\n",
       "      <td>Red</td>\n",
       "      <td>79033.0</td>\n",
       "      <td>4.0</td>\n",
       "      <td>5678</td>\n",
       "    </tr>\n",
       "    <tr>\n",
       "      <th>4</th>\n",
       "      <td>Nissan</td>\n",
       "      <td>White</td>\n",
       "      <td>226163.0</td>\n",
       "      <td>4.0</td>\n",
       "      <td>3929</td>\n",
       "    </tr>\n",
       "  </tbody>\n",
       "</table>\n",
       "</div>"
      ],
      "text/plain": [
       "     Make  Color  Odometer(Miles)  Doors  Price\n",
       "0  Toyota  Black          15963.0    5.0  22803\n",
       "1   Honda  White          65265.0    4.0   6768\n",
       "2  Toyota  White          58803.0    4.0   8662\n",
       "3   Honda    Red          79033.0    4.0   5678\n",
       "4  Nissan  White         226163.0    4.0   3929"
      ]
     },
     "execution_count": 5,
     "metadata": {},
     "output_type": "execute_result"
    }
   ],
   "source": [
    "car_sales[\"Price\"] = car_sales[\"Price\"].str.replace(r'[$,.]', '', regex=True).str[:-2]. astype(int)\n",
    "car_sales.head()"
   ]
  },
  {
   "cell_type": "code",
   "execution_count": null,
   "id": "7fcdd481-a6a3-4f70-b95e-f19620f4606c",
   "metadata": {},
   "outputs": [],
   "source": []
  },
  {
   "cell_type": "code",
   "execution_count": null,
   "id": "3e269e46-a20e-44b7-9901-2ecb4ea30cbc",
   "metadata": {},
   "outputs": [],
   "source": []
  }
 ],
 "metadata": {
  "kernelspec": {
   "display_name": "Python 3 (ipykernel)",
   "language": "python",
   "name": "python3"
  },
  "language_info": {
   "codemirror_mode": {
    "name": "ipython",
    "version": 3
   },
   "file_extension": ".py",
   "mimetype": "text/x-python",
   "name": "python",
   "nbconvert_exporter": "python",
   "pygments_lexer": "ipython3",
   "version": "3.13.5"
  }
 },
 "nbformat": 4,
 "nbformat_minor": 5
}
